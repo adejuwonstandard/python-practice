{
 "cells": [
  {
   "cell_type": "code",
   "execution_count": 1,
   "metadata": {},
   "outputs": [
    {
     "name": "stdout",
     "output_type": "stream",
     "text": [
      "[6, 9, 21, 3, 33]\n"
     ]
    }
   ],
   "source": [
    "def bubbleSort(theSeq):\n",
    "    n=len(theSeq)\n",
    "    for i in range(n-1):\n",
    "        flag=0\n",
    "        for j in range(n-1):\n",
    "            if theSeq[j]>theSeq[j+1]:\n",
    "                tmp=theSeq[j]\n",
    "                theSeq[j]=theSeq[j+1]\n",
    "                theSeq[j+1]=tmp\n",
    "                flag=1\n",
    "            if flag==0:\n",
    "                break\n",
    "        return theSeq\n",
    "el=[21,6,9,33,3]\n",
    "result=bubbleSort(el)\n",
    "print(result)"
   ]
  },
  {
   "cell_type": "code",
   "execution_count": null,
   "metadata": {},
   "outputs": [],
   "source": []
  }
 ],
 "metadata": {
  "kernelspec": {
   "display_name": "Python 3",
   "language": "python",
   "name": "python3"
  },
  "language_info": {
   "codemirror_mode": {
    "name": "ipython",
    "version": 3
   },
   "file_extension": ".py",
   "mimetype": "text/x-python",
   "name": "python",
   "nbconvert_exporter": "python",
   "pygments_lexer": "ipython3",
   "version": "3.7.6"
  }
 },
 "nbformat": 4,
 "nbformat_minor": 4
}
