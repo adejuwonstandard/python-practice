{
 "cells": [
  {
   "cell_type": "code",
   "execution_count": 1,
   "metadata": {},
   "outputs": [],
   "source": [
    "from random import randint\n",
    "from timeit import repeat\n"
   ]
  },
  {
   "cell_type": "code",
   "execution_count": 4,
   "metadata": {},
   "outputs": [],
   "source": [
    "def run_sorting_algorithm(algorithm, array):\n",
    "    #set up the context and prepare the call to the specified \n",
    "    #algorithm using the supplied array. Only import the \n",
    "    #algorithm function if it is not the built-in.\n",
    "    setup_code = f\"from__main__import {algorithm}\"\\\n",
    "        if algorithm !=\"sorted\" else \"\"\n",
    "    stmt = f\"{algorithm}({array})\"\n",
    "    #execute the code ten different times and return the time in seconds that each execution took\n",
    "    times=repeat(setup=setup_code, stmt=stmt, repeat=3, number=10)\n",
    "    \n",
    "    #finally, display the name of the algorithm and the minimum time it took to run\n",
    "    print(f\"Algorithm: {algorithm}. Minimum execution time: {min(times)}\")"
   ]
  },
  {
   "cell_type": "code",
   "execution_count": 5,
   "metadata": {},
   "outputs": [
    {
     "name": "stdout",
     "output_type": "stream",
     "text": [
      "Algorithm: sorted. Minimum execution time: 0.01845599999978731\n"
     ]
    }
   ],
   "source": [
    "ARRAY_LENGTH= 10000\n",
    "if __name__==\"__main__\":\n",
    "    #generate an array of 'ARRAY_LENGTH' items consisting of random integers values between 0 and\n",
    "    #999\n",
    "    array=[randint(0,1000) for i in range(ARRAY_LENGTH)]\n",
    "    \n",
    "    #CALL THE FUNCTION USING THE NAME OF THE SORTING ALGORITHM AND THE ARRAY YOU JUST CREATED\n",
    "    run_sorting_algorithm(algorithm=\"sorted\", array=array)"
   ]
  },
  {
   "cell_type": "code",
   "execution_count": null,
   "metadata": {},
   "outputs": [],
   "source": []
  }
 ],
 "metadata": {
  "kernelspec": {
   "display_name": "Python 3",
   "language": "python",
   "name": "python3"
  },
  "language_info": {
   "codemirror_mode": {
    "name": "ipython",
    "version": 3
   },
   "file_extension": ".py",
   "mimetype": "text/x-python",
   "name": "python",
   "nbconvert_exporter": "python",
   "pygments_lexer": "ipython3",
   "version": "3.7.6"
  }
 },
 "nbformat": 4,
 "nbformat_minor": 4
}
